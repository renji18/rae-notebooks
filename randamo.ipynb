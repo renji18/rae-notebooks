{
 "cells": [
  {
   "cell_type": "code",
   "execution_count": 6,
   "metadata": {},
   "outputs": [],
   "source": [
    "import numpy as np\n",
    "import csv"
   ]
  },
  {
   "cell_type": "code",
   "execution_count": 7,
   "metadata": {},
   "outputs": [],
   "source": [
    "size=500\n",
    "file='./Datasets/dataset_'+str(size)+'.csv'"
   ]
  },
  {
   "cell_type": "code",
   "execution_count": 8,
   "metadata": {},
   "outputs": [],
   "source": [
    "columns = [\"pH\", \"Current Density\", \"Electrolyte concentration\", \"Time\", \"Electrode gap\", \"Result\"]\n",
    "data_types = [float, float, float, float, float, float]\n",
    "min_values = [3, 60, 0.05, 20, 1, 32.16]\n",
    "max_values = [9, 300, 0.10, 100, 3, 84.2]\n"
   ]
  },
  {
   "cell_type": "code",
   "execution_count": 9,
   "metadata": {},
   "outputs": [],
   "source": [
    "data = []\n",
    "for i in range(len(columns)):\n",
    "  col_name = columns[i]\n",
    "  data_type = data_types[i]\n",
    "  min_val = min_values[i]\n",
    "  max_val = max_values[i]\n",
    "  data.append(np.random.uniform(min_val, max_val, size=size))"
   ]
  },
  {
   "cell_type": "code",
   "execution_count": 10,
   "metadata": {},
   "outputs": [
    {
     "name": "stdout",
     "output_type": "stream",
     "text": [
      "CSV file created successfully!\n"
     ]
    }
   ],
   "source": [
    "with open(file, 'w', newline='') as csvfile:\n",
    "  writer = csv.writer(csvfile)\n",
    "  writer.writerow(columns)\n",
    "\n",
    "  for row in zip(*data):\n",
    "    writer.writerow(row)\n",
    "\n",
    "print(\"CSV file created successfully!\")"
   ]
  },
  {
   "cell_type": "code",
   "execution_count": null,
   "metadata": {},
   "outputs": [],
   "source": []
  }
 ],
 "metadata": {
  "kernelspec": {
   "display_name": "base",
   "language": "python",
   "name": "python3"
  },
  "language_info": {
   "codemirror_mode": {
    "name": "ipython",
    "version": 3
   },
   "file_extension": ".py",
   "mimetype": "text/x-python",
   "name": "python",
   "nbconvert_exporter": "python",
   "pygments_lexer": "ipython3",
   "version": "3.1.-1"
  }
 },
 "nbformat": 4,
 "nbformat_minor": 2
}
